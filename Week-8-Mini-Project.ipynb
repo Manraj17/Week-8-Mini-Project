{
 "cells": [
  {
   "cell_type": "code",
   "execution_count": null,
   "id": "ca8f1430-59ca-4d5c-993d-66fd5cf7dc75",
   "metadata": {},
   "outputs": [
    {
     "name": "stdout",
     "output_type": "stream",
     "text": [
      "Welcome to the Simple Account Ledger!\n"
     ]
    },
    {
     "name": "stdin",
     "output_type": "stream",
     "text": [
      "Enter date (YYYY-MM-DD):  20/4/2024\n",
      "Enter description:  grocery\n",
      "Enter amount (positive for credit, negative for debit):  235\n"
     ]
    }
   ],
   "source": [
    "class Transaction:\n",
    "    def __init__(self, date, description, amount):\n",
    "        self.date = date\n",
    "        self.description = description\n",
    "        self.amount = amount  # Positive for credit, negative for debit\n",
    "\n",
    "    def __str__(self):\n",
    "        trans_type = \"Credit\" if self.amount >= 0 else \"Debit\"\n",
    "        return f\"{self.date} | {trans_type} | {self.description} | ${abs(self.amount):.2f}\"\n",
    "\n",
    "\n",
    "class AccountLedger:\n",
    "    def __init__(self):\n",
    "        self.transactions = []\n",
    "\n",
    "    def add_transaction(self, transaction):\n",
    "        self.transactions.append(transaction)\n",
    "\n",
    "    def get_balance(self):\n",
    "        return sum(t.amount for t in self.transactions)\n",
    "\n",
    "    def show_ledger(self):\n",
    "        print(\"\\n===== Account Ledger =====\")\n",
    "        print(\"Date       | Type   | Description        | Amount\")\n",
    "        print(\"-\" * 50)\n",
    "        for t in self.transactions:\n",
    "            print(t)\n",
    "        print(\"-\" * 50)\n",
    "        print(f\"Current Balance: ${self.get_balance():.2f}\")\n",
    "\n",
    "\n",
    "def main():\n",
    "    ledger = AccountLedger()\n",
    "\n",
    "    print(\"Welcome to the Simple Account Ledger!\")\n",
    "    while True:\n",
    "        date = input(\"Enter date (YYYY-MM-DD): \")\n",
    "        description = input(\"Enter description: \")\n",
    "        while True:\n",
    "            try:\n",
    "                amount = float(input(\"Enter amount (positive for credit, negative for debit): \"))\n",
    "                break\n",
    "            except ValueError:\n",
    "                print(\"Please enter a valid number for amount.\")\n",
    "\n",
    "        ledger.add_transaction(Transaction(date, description, amount))\n",
    "\n",
    "        choice = input(\"Add another transaction? (y/n): \").lower()\n",
    "        if choice != 'y':\n",
    "            break\n",
    "\n",
    "    ledger.show_ledger()\n",
    "\n",
    "\n",
    "if __name__ == \"__main__\":\n",
    "    main()\n"
   ]
  },
  {
   "cell_type": "code",
   "execution_count": null,
   "id": "9be7b29f-19da-4637-84f6-749e0e815306",
   "metadata": {},
   "outputs": [],
   "source": []
  }
 ],
 "metadata": {
  "kernelspec": {
   "display_name": "Python 3 (ipykernel)",
   "language": "python",
   "name": "python3"
  },
  "language_info": {
   "codemirror_mode": {
    "name": "ipython",
    "version": 3
   },
   "file_extension": ".py",
   "mimetype": "text/x-python",
   "name": "python",
   "nbconvert_exporter": "python",
   "pygments_lexer": "ipython3",
   "version": "3.12.7"
  }
 },
 "nbformat": 4,
 "nbformat_minor": 5
}
